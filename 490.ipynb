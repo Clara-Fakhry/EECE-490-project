{
  "nbformat": 4,
  "nbformat_minor": 0,
  "metadata": {
    "colab": {
      "provenance": [],
      "include_colab_link": true
    },
    "kernelspec": {
      "name": "python3",
      "display_name": "Python 3"
    },
    "language_info": {
      "name": "python"
    }
  },
  "cells": [
    {
      "cell_type": "markdown",
      "metadata": {
        "id": "view-in-github",
        "colab_type": "text"
      },
      "source": [
        "<a href=\"https://colab.research.google.com/github/Clara-Fakhry/content/blob/main/490.ipynb\" target=\"_parent\"><img src=\"https://colab.research.google.com/assets/colab-badge.svg\" alt=\"Open In Colab\"/></a>"
      ]
    },
    {
      "cell_type": "code",
      "source": [
        "!pip install openai==0.28"
      ],
      "metadata": {
        "colab": {
          "base_uri": "https://localhost:8080/"
        },
        "id": "gRxBnBVUvHLg",
        "outputId": "699898e7-fdbb-43f2-97b1-2a35c91f9a3d"
      },
      "execution_count": null,
      "outputs": [
        {
          "output_type": "stream",
          "name": "stdout",
          "text": [
            "Collecting openai==0.28\n",
            "  Downloading openai-0.28.0-py3-none-any.whl.metadata (13 kB)\n",
            "Requirement already satisfied: requests>=2.20 in /usr/local/lib/python3.10/dist-packages (from openai==0.28) (2.32.3)\n",
            "Requirement already satisfied: tqdm in /usr/local/lib/python3.10/dist-packages (from openai==0.28) (4.66.6)\n",
            "Requirement already satisfied: aiohttp in /usr/local/lib/python3.10/dist-packages (from openai==0.28) (3.10.10)\n",
            "Requirement already satisfied: charset-normalizer<4,>=2 in /usr/local/lib/python3.10/dist-packages (from requests>=2.20->openai==0.28) (3.4.0)\n",
            "Requirement already satisfied: idna<4,>=2.5 in /usr/local/lib/python3.10/dist-packages (from requests>=2.20->openai==0.28) (3.10)\n",
            "Requirement already satisfied: urllib3<3,>=1.21.1 in /usr/local/lib/python3.10/dist-packages (from requests>=2.20->openai==0.28) (2.2.3)\n",
            "Requirement already satisfied: certifi>=2017.4.17 in /usr/local/lib/python3.10/dist-packages (from requests>=2.20->openai==0.28) (2024.8.30)\n",
            "Requirement already satisfied: aiohappyeyeballs>=2.3.0 in /usr/local/lib/python3.10/dist-packages (from aiohttp->openai==0.28) (2.4.3)\n",
            "Requirement already satisfied: aiosignal>=1.1.2 in /usr/local/lib/python3.10/dist-packages (from aiohttp->openai==0.28) (1.3.1)\n",
            "Requirement already satisfied: attrs>=17.3.0 in /usr/local/lib/python3.10/dist-packages (from aiohttp->openai==0.28) (24.2.0)\n",
            "Requirement already satisfied: frozenlist>=1.1.1 in /usr/local/lib/python3.10/dist-packages (from aiohttp->openai==0.28) (1.5.0)\n",
            "Requirement already satisfied: multidict<7.0,>=4.5 in /usr/local/lib/python3.10/dist-packages (from aiohttp->openai==0.28) (6.1.0)\n",
            "Requirement already satisfied: yarl<2.0,>=1.12.0 in /usr/local/lib/python3.10/dist-packages (from aiohttp->openai==0.28) (1.17.0)\n",
            "Requirement already satisfied: async-timeout<5.0,>=4.0 in /usr/local/lib/python3.10/dist-packages (from aiohttp->openai==0.28) (4.0.3)\n",
            "Requirement already satisfied: typing-extensions>=4.1.0 in /usr/local/lib/python3.10/dist-packages (from multidict<7.0,>=4.5->aiohttp->openai==0.28) (4.12.2)\n",
            "Requirement already satisfied: propcache>=0.2.0 in /usr/local/lib/python3.10/dist-packages (from yarl<2.0,>=1.12.0->aiohttp->openai==0.28) (0.2.0)\n",
            "Downloading openai-0.28.0-py3-none-any.whl (76 kB)\n",
            "\u001b[2K   \u001b[90m━━━━━━━━━━━━━━━━━━━━━━━━━━━━━━━━━━━━━━━━\u001b[0m \u001b[32m76.5/76.5 kB\u001b[0m \u001b[31m2.1 MB/s\u001b[0m eta \u001b[36m0:00:00\u001b[0m\n",
            "\u001b[?25hInstalling collected packages: openai\n",
            "  Attempting uninstall: openai\n",
            "    Found existing installation: openai 1.52.2\n",
            "    Uninstalling openai-1.52.2:\n",
            "      Successfully uninstalled openai-1.52.2\n",
            "Successfully installed openai-0.28.0\n"
          ]
        }
      ]
    },
    {
      "cell_type": "code",
      "source": [
        "from getpass import getpass\n",
        "import openai\n",
        "import os\n",
        "\n"
      ],
      "metadata": {
        "id": "-uGhMl0NNO3u"
      },
      "execution_count": null,
      "outputs": []
    },
    {
      "cell_type": "code",
      "source": [
        "openai.api_key = getpass(\"Enter your OpenAI API Key: \")\n"
      ],
      "metadata": {
        "colab": {
          "base_uri": "https://localhost:8080/"
        },
        "id": "qA3VqbroQBM-",
        "outputId": "d7f57415-b063-4f0a-b2b1-e3fc97d39d90"
      },
      "execution_count": null,
      "outputs": [
        {
          "name": "stdout",
          "output_type": "stream",
          "text": [
            "Enter your OpenAI API Key: ··········\n"
          ]
        }
      ]
    },
    {
      "cell_type": "code",
      "source": [
        "def get_chatgpt_response(prompt, model=\"gpt-4o\"):\n",
        "    response = openai.ChatCompletion.create(\n",
        "        model=model,\n",
        "        messages=[\n",
        "            {\"role\": \"user\", \"content\": prompt}\n",
        "        ]\n",
        "    )\n",
        "    # Extract and return the response text\n",
        "    return response.choices[0].message['content']\n"
      ],
      "metadata": {
        "id": "LTZbWIKqvHE_"
      },
      "execution_count": null,
      "outputs": []
    },
    {
      "cell_type": "code",
      "source": [
        "prompt = \"career guidance ai system\"\n",
        "response = get_chatgpt_response(prompt)\n",
        "print(response)\n"
      ],
      "metadata": {
        "colab": {
          "base_uri": "https://localhost:8080/"
        },
        "id": "D4WGzpcWvHCp",
        "outputId": "52454b1d-e26b-491f-8f35-fcf3906b958d"
      },
      "execution_count": null,
      "outputs": [
        {
          "output_type": "stream",
          "name": "stdout",
          "text": [
            "Certainly! If you're seeking career guidance, whether you're starting out or considering a change, here’s a systematic approach to help you:\n",
            "\n",
            "### Self-Assessment\n",
            "- **Interests and Passions**: Identify what excites you and what activities make you lose track of time.\n",
            "- **Strengths and Skills**: Evaluate your strengths and capabilities. Consider taking skill assessment tests like the Myers-Briggs Type Indicator (MBTI) or StrengthsFinder.\n",
            "- **Values and Motivations**: Consider what matters most to you in a job. Is it salary, work-life balance, growth opportunities, social impact, etc.?\n",
            "\n",
            "### Research and Exploration\n",
            "- **Industry Trends**: Stay informed about the latest trends and future prospects in various industries through sites like LinkedIn, industry-specific news sites, or reports.\n",
            "- **Career Options**: Explore different roles and sectors. Use platforms like O*NET Online or the Bureau of Labor Statistics’ Occupational Outlook Handbook.\n",
            "- **Informational Interviews**: Talk to professionals in fields you're interested in. This can provide firsthand insight into the realities of different roles.\n",
            "\n",
            "### Skill Development\n",
            "- **Education and Certification**: Consider formal education or certifications if necessary. Online platforms like Coursera, Udemy, or Khan Academy can be useful.\n",
            "- **Internships and Volunteering**: Gain experience through internships, part-time work, or volunteer opportunities.\n",
            "- **Network Building**: Establish connections in the industry through LinkedIn, professional groups, and events.\n",
            "\n",
            "### Decision-Making and Planning\n",
            "- **Set Goals**: Define short-term and long-term career goals. Ensure they're Specific, Measurable, Achievable, Relevant, and Time-bound (SMART).\n",
            "- **Evaluate Options**: Weigh the pros and cons of each career path based on your self-assessment and research.\n",
            "- **Create an Action Plan**: Develop a step-by-step plan for how to achieve your goals. Include actions like skill development, networking, and applying to jobs.\n",
            "\n",
            "### Job Search Strategy\n",
            "- **Resume and Cover Letter**: Tailor these documents for each application highlighting relevant skills and experiences.\n",
            "- **Interview Preparation**: Practice common interview questions and study the companies you apply to.\n",
            "- **Leverage Technology**: Use job search platforms like LinkedIn, Indeed, Glassdoor, and company websites.\n",
            "\n",
            "### Continuous Learning and Adaptation\n",
            "- **Stay Updated**: Keep learning and adapting to new tools, technologies, and skills in your field.\n",
            "- **Seek Feedback**: Regularly ask for feedback from peers, mentors, or managers and use it to improve.\n",
            "- **Reassess Regularly**: Periodically revisit your career plan to ensure it aligns with your evolving interests and market conditions.\n",
            "\n",
            "By following this structured approach, you can make informed decisions about your career path. Remember that career paths are often non-linear, and flexibility can be just as crucial as planning. Let me know if there is a specific area you’d like more information on!\n"
          ]
        }
      ]
    },
    {
      "cell_type": "code",
      "source": [
        "!pip install PyMuPDF openai"
      ],
      "metadata": {
        "id": "BneZgzSwvG_x",
        "colab": {
          "base_uri": "https://localhost:8080/"
        },
        "outputId": "d3dc8a04-58ab-4a87-e841-8e7d2c8899d8"
      },
      "execution_count": null,
      "outputs": [
        {
          "output_type": "stream",
          "name": "stdout",
          "text": [
            "Collecting PyMuPDF\n",
            "  Downloading PyMuPDF-1.24.13-cp39-abi3-manylinux2014_x86_64.manylinux_2_17_x86_64.whl.metadata (3.4 kB)\n",
            "Requirement already satisfied: openai in /usr/local/lib/python3.10/dist-packages (0.28.0)\n",
            "Requirement already satisfied: requests>=2.20 in /usr/local/lib/python3.10/dist-packages (from openai) (2.32.3)\n",
            "Requirement already satisfied: tqdm in /usr/local/lib/python3.10/dist-packages (from openai) (4.66.6)\n",
            "Requirement already satisfied: aiohttp in /usr/local/lib/python3.10/dist-packages (from openai) (3.10.10)\n",
            "Requirement already satisfied: charset-normalizer<4,>=2 in /usr/local/lib/python3.10/dist-packages (from requests>=2.20->openai) (3.4.0)\n",
            "Requirement already satisfied: idna<4,>=2.5 in /usr/local/lib/python3.10/dist-packages (from requests>=2.20->openai) (3.10)\n",
            "Requirement already satisfied: urllib3<3,>=1.21.1 in /usr/local/lib/python3.10/dist-packages (from requests>=2.20->openai) (2.2.3)\n",
            "Requirement already satisfied: certifi>=2017.4.17 in /usr/local/lib/python3.10/dist-packages (from requests>=2.20->openai) (2024.8.30)\n",
            "Requirement already satisfied: aiohappyeyeballs>=2.3.0 in /usr/local/lib/python3.10/dist-packages (from aiohttp->openai) (2.4.3)\n",
            "Requirement already satisfied: aiosignal>=1.1.2 in /usr/local/lib/python3.10/dist-packages (from aiohttp->openai) (1.3.1)\n",
            "Requirement already satisfied: attrs>=17.3.0 in /usr/local/lib/python3.10/dist-packages (from aiohttp->openai) (24.2.0)\n",
            "Requirement already satisfied: frozenlist>=1.1.1 in /usr/local/lib/python3.10/dist-packages (from aiohttp->openai) (1.5.0)\n",
            "Requirement already satisfied: multidict<7.0,>=4.5 in /usr/local/lib/python3.10/dist-packages (from aiohttp->openai) (6.1.0)\n",
            "Requirement already satisfied: yarl<2.0,>=1.12.0 in /usr/local/lib/python3.10/dist-packages (from aiohttp->openai) (1.17.0)\n",
            "Requirement already satisfied: async-timeout<5.0,>=4.0 in /usr/local/lib/python3.10/dist-packages (from aiohttp->openai) (4.0.3)\n",
            "Requirement already satisfied: typing-extensions>=4.1.0 in /usr/local/lib/python3.10/dist-packages (from multidict<7.0,>=4.5->aiohttp->openai) (4.12.2)\n",
            "Requirement already satisfied: propcache>=0.2.0 in /usr/local/lib/python3.10/dist-packages (from yarl<2.0,>=1.12.0->aiohttp->openai) (0.2.0)\n",
            "Downloading PyMuPDF-1.24.13-cp39-abi3-manylinux2014_x86_64.manylinux_2_17_x86_64.whl (19.8 MB)\n",
            "\u001b[2K   \u001b[90m━━━━━━━━━━━━━━━━━━━━━━━━━━━━━━━━━━━━━━━━\u001b[0m \u001b[32m19.8/19.8 MB\u001b[0m \u001b[31m44.2 MB/s\u001b[0m eta \u001b[36m0:00:00\u001b[0m\n",
            "\u001b[?25hInstalling collected packages: PyMuPDF\n",
            "Successfully installed PyMuPDF-1.24.13\n"
          ]
        }
      ]
    },
    {
      "cell_type": "markdown",
      "source": [
        "Function that extracts features from the CV"
      ],
      "metadata": {
        "id": "4EQ_T0JgRmx9"
      }
    },
    {
      "cell_type": "code",
      "source": [
        "import fitz  # PyMuPDF for PDF handling\n",
        "\n",
        "def extract_text_from_pdf(pdf_path):\n",
        "    # Initialize an empty string to store text\n",
        "    text = \"\"\n",
        "    # Open the PDF file\n",
        "    with fitz.open(pdf_path) as doc:\n",
        "        # Loop through each page and extract text\n",
        "        for page in doc:\n",
        "            text += page.get_text()\n",
        "    return text\n",
        "\n",
        "def get_cv_features(cv_text):\n",
        "    # Define a prompt to guide GPT-4 in extracting specific CV features\n",
        "    prompt = f\"\"\"\n",
        "    Extract the following details from the CV text below and structure them in a clear format:\n",
        "\n",
        "    1. Contact Information (e.g., name, phone number, email, address).\n",
        "    2. Summary or Objective (if available).\n",
        "    3. Education (degrees, institutions, graduation dates, GPA or academic achievements).\n",
        "    4. Work Experience (company names, job titles, responsibilities, achievements, dates).\n",
        "    5. Skills (both technical and soft skills).\n",
        "    6. Certifications or Training (certificate names, issuing organizations, dates).\n",
        "    7. Achievements and Awards (e.g., recognitions, honors, major accomplishments).\n",
        "    8. Extracurricular Activities (e.g., clubs, volunteer work, sports).\n",
        "    9. Languages (languages spoken and proficiency levels).\n",
        "    10. Projects (if any relevant projects are mentioned).\n",
        "    11. References (if any references are included).\n",
        "\n",
        "\n",
        "    CV Text:\n",
        "    {cv_text}\n",
        "    \"\"\"\n",
        "\n",
        "    # Use OpenAI's API to process the prompt\n",
        "    response = openai.ChatCompletion.create(\n",
        "        model=\"gpt-4o\",\n",
        "        messages=[{\"role\": \"user\", \"content\": prompt}]\n",
        "    )\n",
        "\n",
        "    # Extract the content of the response\n",
        "    extracted_info = response['choices'][0]['message']['content']\n",
        "    return extracted_info\n",
        "\n",
        "# Path to the CV PDF file\n",
        "pdf_path = 'Charbel Abou Younes Cv (1).pdf'\n",
        "\n",
        "# Extract text from the CV PDF\n",
        "cv_text = extract_text_from_pdf(pdf_path)\n",
        "\n",
        "# Get structured information\n",
        "cv_features = get_cv_features(cv_text)\n",
        "\n",
        "print(\"Extracted CV Information:\\n\", cv_features)\n"
      ],
      "metadata": {
        "id": "OSjl9HZdvG8L",
        "colab": {
          "base_uri": "https://localhost:8080/"
        },
        "outputId": "7aa4009d-af15-4e8c-ec35-2c4640ecddad"
      },
      "execution_count": null,
      "outputs": [
        {
          "output_type": "stream",
          "name": "stdout",
          "text": [
            "Extracted CV Information:\n",
            " **1. Contact Information:**\n",
            "   - Name: Charbel C. Abou Younes\n",
            "   - Phone Number: +961 – 70149148\n",
            "   - Email: Charbelabouyounes70@gmail.com\n",
            "   - Address: Beirut, Lebanon\n",
            "\n",
            "**2. Summary or Objective:**\n",
            "   - Not provided\n",
            "\n",
            "**3. Education:**\n",
            "   - Degree: Bachelor’s degree in Electrical and Computer Engineering\n",
            "   - Institution: American University of Beirut (AUB)\n",
            "   - Dates: August 2022 – Present\n",
            "   - GPA: 4.06\n",
            "\n",
            "**4. Work Experience:**\n",
            "   - Position: Neuroradiology AI Research Assistant\n",
            "     - Company: American University of Beirut (AUB)\n",
            "     - Dates: January 2024 – Present\n",
            "     - Responsibilities and Achievements:\n",
            "       - Analyzing brain images using Python for insights and pattern recognition\n",
            "       - Fine-tuning AI models for improved accuracy and efficiency\n",
            "       - Supporting team decision-making with relevant information and analysis\n",
            "   - Position: Physics and Math Tutor\n",
            "     - Company: Self-Employed\n",
            "     - Dates: December 2022 – Present\n",
            "     - Responsibilities and Achievements:\n",
            "       - Conducting one-on-one tutoring sessions for students in grades 9-12\n",
            "       - Preparing and presenting lesson plans, presentations, and interactive exercises\n",
            "\n",
            "**5. Skills:**\n",
            "   - Technical Skills: Java, Python, C++, HTML, MATLAB, JavaScript, React, Django, CSS, AWS Lambda, AWS DynamoDB, AWS API Gateway\n",
            "   - Soft Skills: Management, Problem solving, Leadership, Analytical thinking, Communication, Critical thinking, Team building\n",
            "\n",
            "**6. Certifications or Training:**\n",
            "   - Not provided\n",
            "\n",
            "**7. Achievements and Awards:**\n",
            "   - DEAN’S HONOR LIST: Obtained Honor List status in every semester attended\n",
            "\n",
            "**8. Extracurricular Activities:**\n",
            "   - Volunteer in AUB outdoors (June 2024)\n",
            "     - Assisted in event organization and logistics\n",
            "     - Coordinated participant registration and access\n",
            "     - Managed time schedules and facilitated smooth event proceedings\n",
            "\n",
            "**9. Languages:**\n",
            "   - Arabic: Native language\n",
            "   - English: Fluent\n",
            "   - French: Fluent\n",
            "\n",
            "**10. Projects:**\n",
            "   - Not explicitly mentioned\n",
            "\n",
            "**11. References:**\n",
            "   - Not provided\n"
          ]
        }
      ]
    },
    {
      "cell_type": "markdown",
      "source": [
        "2. Preprocessing the Extracted Text"
      ],
      "metadata": {
        "id": "7gknkhD9PdST"
      }
    },
    {
      "cell_type": "code",
      "source": [
        "cv_text_cleaned = cv_text.replace(\"\\n\", \" \").strip() #Remove extra line breaks and spaces:\n",
        "import re\n",
        "cv_text_cleaned = re.sub(r'\\s+', ' ', cv_text_cleaned) #Normalize the text (e.g., ensuring consistent spaces between words):"
      ],
      "metadata": {
        "id": "ODLjHjrNvG18"
      },
      "execution_count": null,
      "outputs": []
    },
    {
      "cell_type": "markdown",
      "source": [
        " Define Key CV Features to Extract"
      ],
      "metadata": {
        "id": "cn0afgGUSC1t"
      }
    },
    {
      "cell_type": "code",
      "execution_count": null,
      "metadata": {
        "id": "bNfGzO46uTAQ"
      },
      "outputs": [],
      "source": [
        "prompt = f\"\"\"\n",
        "Extract the following details from the CV text below and return them in JSON format:\n",
        "\n",
        "- 'contact_info': Name, phone number, email, address.\n",
        "- 'summary_or_objective': A brief career summary or objective.\n",
        "- 'education': Degrees, institutions, graduation dates, GPA, academic achievements.\n",
        "- 'work_experience': Company names, job titles, responsibilities, achievements, dates.\n",
        "- 'skills': Technical and soft skills.\n",
        "- 'certifications': Certificate names, issuing organizations, dates.\n",
        "- 'achievements': Recognitions, honors, major accomplishments.\n",
        "- 'extracurricular_activities': Clubs, volunteer work, sports.\n",
        "- 'languages': Languages spoken and proficiency levels.\n",
        "- 'projects': Relevant personal or professional projects.\n",
        "- 'references': Any references mentioned.\n",
        "\n",
        "CV Text:\n",
        "{cv_text_cleaned}\n",
        "\"\"\"\n"
      ]
    },
    {
      "cell_type": "code",
      "source": [
        "print(\"Hello World\")"
      ],
      "metadata": {
        "id": "6LqhxoySs0OS"
      },
      "execution_count": null,
      "outputs": []
    }
  ]
}